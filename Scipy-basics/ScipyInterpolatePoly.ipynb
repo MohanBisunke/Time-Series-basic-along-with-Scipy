{
 "cells": [
  {
   "cell_type": "markdown",
   "metadata": {},
   "source": [
    "Ppoly Objects (polynomial)"
   ]
  },
  {
   "cell_type": "code",
   "execution_count": 1,
   "metadata": {},
   "outputs": [],
   "source": [
    "import numpy as np \n",
    "import scipy\n",
    "from scipy.interpolate import CubicSpline"
   ]
  },
  {
   "cell_type": "code",
   "execution_count": 2,
   "metadata": {},
   "outputs": [],
   "source": [
    "from scipy.interpolate import CubicSpline\n",
    "x = np.linspace(0, 10, 71)\n",
    "y = np.sin(x)\n",
    "spl = CubicSpline(x, y)\n",
    "\n",
    "\n",
    "dspl = spl.derivative()"
   ]
  },
  {
   "cell_type": "code",
   "execution_count": 3,
   "metadata": {},
   "outputs": [
    {
     "data": {
      "text/plain": [
       "(array(0.45361436), array(0.45361436))"
      ]
     },
     "execution_count": 3,
     "metadata": {},
     "output_type": "execute_result"
    }
   ],
   "source": [
    "dspl(1.1), spl(1.1, nu=1)   #nu=1 is first derivative"
   ]
  },
  {
   "cell_type": "code",
   "execution_count": 4,
   "metadata": {},
   "outputs": [
    {
     "data": {
      "text/plain": [
       "(array(-0.89083079), array(-0.89083079))"
      ]
     },
     "execution_count": 4,
     "metadata": {},
     "output_type": "execute_result"
    }
   ],
   "source": [
    "dspl2 = dspl.derivative()\n",
    "dspl2(1.1) , spl(1.1,nu=2)  #nu=2 is 2nd derivative."
   ]
  },
  {
   "cell_type": "code",
   "execution_count": 6,
   "metadata": {},
   "outputs": [
    {
     "data": {
      "text/plain": [
       "(array([-1.42882152,  1.57079739,  4.71239208,  7.85398666, 10.87776434]),\n",
       " array([-1.83991769e-03,  3.14158846e+00,  6.28317714e+00,  9.42473952e+00]))"
      ]
     },
     "execution_count": 6,
     "metadata": {},
     "output_type": "execute_result"
    }
   ],
   "source": [
    "dspl.roots() , dspl2.roots()   #zeros of the roots of derivatives."
   ]
  },
  {
   "cell_type": "code",
   "execution_count": 7,
   "metadata": {},
   "outputs": [
    {
     "data": {
      "text/plain": [
       "(array([1.57079739, 4.71239208, 7.85398666]),\n",
       " array([3.14158846, 6.28317714, 9.42473952]))"
      ]
     },
     "execution_count": 7,
     "metadata": {},
     "output_type": "execute_result"
    }
   ],
   "source": [
    "dspl.roots(extrapolate=False) , dspl2.roots(extrapolate=False)   #values beyond the limit can be used for interpolation"
   ]
  },
  {
   "cell_type": "code",
   "execution_count": 8,
   "metadata": {},
   "outputs": [
    {
     "data": {
      "text/plain": [
       "1.8540746773013719"
      ]
     },
     "execution_count": 8,
     "metadata": {},
     "output_type": "execute_result"
    }
   ],
   "source": [
    "from scipy.special import ellipk\n",
    "m = 0.5\n",
    "ellipk(m)"
   ]
  },
  {
   "cell_type": "code",
   "execution_count": 10,
   "metadata": {},
   "outputs": [],
   "source": [
    "from scipy.interpolate import PchipInterpolator\n",
    "x = np.linspace(0, np.pi/2, 70)\n",
    "y = (1 - m*np.sin(x)**2)**(-1/2)\n",
    "spl = PchipInterpolator(x, y)"
   ]
  },
  {
   "cell_type": "code",
   "execution_count": 12,
   "metadata": {},
   "outputs": [
    {
     "data": {
      "text/plain": [
       "(array(1.85407467), 1.8540746773013719)"
      ]
     },
     "execution_count": 12,
     "metadata": {},
     "output_type": "execute_result"
    }
   ],
   "source": [
    "spl.integrate(0, np.pi/2), ellipk(m)"
   ]
  },
  {
   "cell_type": "code",
   "execution_count": 15,
   "metadata": {},
   "outputs": [
    {
     "data": {
      "image/png": "[encoded data removed]",
      "text/plain": [
       "<Figure size 640x480 with 1 Axes>"
      ]
     },
     "metadata": {},
     "output_type": "display_data"
    }
   ],
   "source": [
    "from scipy.interpolate import PchipInterpolator\n",
    "m = np.linspace(0, 0.9, 11)\n",
    "x = np.linspace(0, np.pi/2, 70)\n",
    "y = 1 / np.sqrt(1 - m[:, None]*np.sin(x)**2)\n",
    "\n",
    "\n",
    "spl = PchipInterpolator(x, y, axis=1)  # the default is axis=0\n",
    "import matplotlib.pyplot as plt\n",
    "plt.plot(m, spl.integrate(0, np.pi/2), '--')\n",
    "\n",
    "from scipy.special import ellipk\n",
    "plt.plot(m, ellipk(m), 'o')\n",
    "plt.legend(['`ellipk`', 'integrated piecewise polynomial'])\n",
    "plt.show()"
   ]
  },
  {
   "cell_type": "code",
   "execution_count": null,
   "metadata": {},
   "outputs": [],
   "source": []
  },
  {
   "cell_type": "markdown",
   "metadata": {},
   "source": [
    "knots are the points where different polynomial segments are joined together to form a smooth curve. Knots play a crucial role in defining the shape and behavior of the spline curve.\n",
    "\n",
    "\n",
    "len(c)=len(t)−k−1"
   ]
  },
  {
   "cell_type": "code",
   "execution_count": 21,
   "metadata": {},
   "outputs": [
    {
     "name": "stdout",
     "output_type": "stream",
     "text": [
      "11\n",
      "[0.   0.   0.   0.   0.5  0.75 1.   1.5  1.5  1.5  1.5 ]\n",
      "7\n",
      "[ 0.          0.5547745   1.21887813  0.78361162 -0.26369362 -1.03236675\n",
      " -1.        ]\n"
     ]
    }
   ],
   "source": [
    "x = np.linspace(0, 3/2, 7)\n",
    "y = np.sin(np.pi*x)\n",
    "from scipy.interpolate import make_interp_spline\n",
    "bspl = make_interp_spline(x, y, k=3)\n",
    "print(len(bspl.t))\n",
    "print(bspl.t)      #knots\n",
    "print(len(bspl.c))  #coeffcients\n",
    "print(bspl.c)"
   ]
  },
  {
   "cell_type": "code",
   "execution_count": null,
   "metadata": {},
   "outputs": [],
   "source": []
  },
  {
   "cell_type": "code",
   "execution_count": null,
   "metadata": {},
   "outputs": [],
   "source": []
  }
 ],
 "metadata": {
  "kernelspec": {
   "display_name": "Python 3",
   "language": "python",
   "name": "python3"
  },
  "language_info": {
   "codemirror_mode": {
    "name": "ipython",
    "version": 3
   },
   "file_extension": ".py",
   "mimetype": "text/x-python",
   "name": "python",
   "nbconvert_exporter": "python",
   "pygments_lexer": "ipython3",
   "version": "3.12.3"
  }
 },
 "nbformat": 4,
 "nbformat_minor": 2
}
