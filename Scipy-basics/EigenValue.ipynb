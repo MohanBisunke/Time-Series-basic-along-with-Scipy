{
 "cells": [
  {
   "cell_type": "code",
   "execution_count": 2,
   "metadata": {},
   "outputs": [],
   "source": [
    "from scipy import linalg\n",
    "import numpy as np"
   ]
  },
  {
   "cell_type": "code",
   "execution_count": 3,
   "metadata": {},
   "outputs": [
    {
     "data": {
      "text/plain": [
       "matrix([[1, 2, 3],\n",
       "        [3, 4, 5],\n",
       "        [6, 7, 8]])"
      ]
     },
     "execution_count": 3,
     "metadata": {},
     "output_type": "execute_result"
    }
   ],
   "source": [
    "x = np.asmatrix('[1,2,3;3,4,5;6,7,8]')\n",
    "x"
   ]
  },
  {
   "cell_type": "code",
   "execution_count": 5,
   "metadata": {},
   "outputs": [
    {
     "data": {
      "text/plain": [
       "(array([ 1.40663730e+01+0.j, -1.06637298e+00+0.j,  3.43927949e-17+0.j]),\n",
       " array([[ 0.26564776,  0.74442863,  0.40824829],\n",
       "        [ 0.49120712,  0.19070122, -0.81649658],\n",
       "        [ 0.82954616, -0.63988988,  0.40824829]]))"
      ]
     },
     "execution_count": 5,
     "metadata": {},
     "output_type": "execute_result"
    }
   ],
   "source": [
    "eigen_value, eigen_vector = linalg.eig(x)\n",
    "eigen_value, eigen_vector"
   ]
  },
  {
   "cell_type": "code",
   "execution_count": 6,
   "metadata": {},
   "outputs": [
    {
     "name": "stdout",
     "output_type": "stream",
     "text": [
      "[[1. 2. 3.]\n",
      " [3. 4. 5.]\n",
      " [6. 7. 8.]]\n"
     ]
    },
    {
     "name": "stderr",
     "output_type": "stream",
     "text": [
      "C:\\Users\\ACER\\AppData\\Local\\Temp\\ipykernel_48260\\2907785935.py:10: ComplexWarning: Casting complex values to real discards the imaginary part\n",
      "  row[index] = eg_value\n"
     ]
    }
   ],
   "source": [
    "#Singular value decompostion\n",
    "\n",
    "P = eigen_vector\n",
    "P_inverse = linalg.inv(eigen_vector)\n",
    "\n",
    "D = []\n",
    "\n",
    "for index,eg_value in enumerate(eigen_value):\n",
    "    row = np.zeros(3)\n",
    "    row[index] = eg_value\n",
    "    D.append(row)\n",
    "D = np.array(D)\n",
    "\n",
    "print(P @ D @ P_inverse)"
   ]
  },
  {
   "cell_type": "code",
   "execution_count": null,
   "metadata": {},
   "outputs": [],
   "source": []
  }
 ],
 "metadata": {
  "kernelspec": {
   "display_name": "Python 3",
   "language": "python",
   "name": "python3"
  },
  "language_info": {
   "codemirror_mode": {
    "name": "ipython",
    "version": 3
   },
   "file_extension": ".py",
   "mimetype": "text/x-python",
   "name": "python",
   "nbconvert_exporter": "python",
   "pygments_lexer": "ipython3",
   "version": "3.12.3"
  }
 },
 "nbformat": 4,
 "nbformat_minor": 2
}
