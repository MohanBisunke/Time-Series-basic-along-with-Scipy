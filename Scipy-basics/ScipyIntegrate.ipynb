{
 "cells": [
  {
   "cell_type": "code",
   "execution_count": 4,
   "metadata": {},
   "outputs": [],
   "source": [
    "import scipy\n",
    "import numpy as np\n",
    "from scipy import integrate ,special"
   ]
  },
  {
   "cell_type": "code",
   "execution_count": 13,
   "metadata": {},
   "outputs": [
    {
     "name": "stdout",
     "output_type": "stream",
     "text": [
      "(1.3858482054688337, 5.789246705448808e-09)\n"
     ]
    }
   ],
   "source": [
    "result = integrate.quad(lambda x:special.jv(1.5,x),0,4.5)   #jv is for complex and all real value unlike .jn\n",
    "#quad means general purpose general integration\n",
    "\n",
    "print(result)"
   ]
  },
  {
   "cell_type": "code",
   "execution_count": 18,
   "metadata": {},
   "outputs": [
    {
     "name": "stdout",
     "output_type": "stream",
     "text": [
      "1.6666666666666667\n"
     ]
    }
   ],
   "source": [
    "#2x^2+b ,single integration from 0 to 1\n",
    "\n",
    "def integrand(x,a,b):\n",
    "    return a*x**2+b\n",
    "\n",
    "a=2\n",
    "b=1\n",
    "value,error = integrate.quad(integrand, 0,1,args=(a,b))\n",
    "print(value)"
   ]
  },
  {
   "cell_type": "code",
   "execution_count": 19,
   "metadata": {},
   "outputs": [
    {
     "name": "stdout",
     "output_type": "stream",
     "text": [
      "1.6666666666666667\n"
     ]
    }
   ],
   "source": [
    "#ax^2+dx+b \n",
    "\n",
    "def integrand(x, a, b, d):\n",
    "    return a * x**2 + d * x + b\n",
    "\n",
    "a = 2\n",
    "b = 1\n",
    "d = 0 \n",
    "value, error = integrate.quad(integrand, 0, 1, args=(a, b, d))\n",
    "print(value)\n"
   ]
  },
  {
   "cell_type": "code",
   "execution_count": 20,
   "metadata": {},
   "outputs": [
    {
     "name": "stdout",
     "output_type": "stream",
     "text": [
      "0.9999999999976233\n"
     ]
    }
   ],
   "source": [
    "#e^-x.e^-y\n",
    "def integrand(y,x):\n",
    "    return np.exp(-x) * np.exp(-y)\n",
    "\n",
    "\n",
    "value ,error = integrate.dblquad(integrand,0,np.inf,lambda x:0, lambda x:np.inf) #lambda are for inner integral\n",
    "\n",
    "print(value)"
   ]
  },
  {
   "cell_type": "code",
   "execution_count": 29,
   "metadata": {},
   "outputs": [
    {
     "data": {
      "text/plain": [
       "2.0007487283108984"
      ]
     },
     "execution_count": 29,
     "metadata": {},
     "output_type": "execute_result"
    }
   ],
   "source": [
    "def f(x):\n",
    "    return np.sin(x)\n",
    "\n",
    "x_value = np.linspace(0,np.pi,10) #o to po, 10 numbers\n",
    "\n",
    "#simpson expects to take multiple points values\n",
    "\n",
    "result = integrate.simpson(y=f(x_value),x=x_value)"
   ]
  },
  {
   "cell_type": "code",
   "execution_count": null,
   "metadata": {},
   "outputs": [],
   "source": []
  },
  {
   "cell_type": "code",
   "execution_count": null,
   "metadata": {},
   "outputs": [],
   "source": []
  },
  {
   "cell_type": "code",
   "execution_count": null,
   "metadata": {},
   "outputs": [],
   "source": []
  },
  {
   "cell_type": "code",
   "execution_count": null,
   "metadata": {},
   "outputs": [],
   "source": []
  }
 ],
 "metadata": {
  "kernelspec": {
   "display_name": "Python 3",
   "language": "python",
   "name": "python3"
  },
  "language_info": {
   "codemirror_mode": {
    "name": "ipython",
    "version": 3
   },
   "file_extension": ".py",
   "mimetype": "text/x-python",
   "name": "python",
   "nbconvert_exporter": "python",
   "pygments_lexer": "ipython3",
   "version": "3.12.3"
  }
 },
 "nbformat": 4,
 "nbformat_minor": 2
}
