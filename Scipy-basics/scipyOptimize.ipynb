{
 "cells": [
  {
   "cell_type": "code",
   "execution_count": 8,
   "metadata": {},
   "outputs": [],
   "source": [
    "import numpy as np\n",
    "import scipy\n",
    "from scipy import integrate,special,optimize"
   ]
  },
  {
   "cell_type": "code",
   "execution_count": 9,
   "metadata": {},
   "outputs": [],
   "source": [
    "#ROSENBROCK equation\n",
    "\n",
    "#  from 1 to n-1,    b(xi+1  - xi^2)^2 + (a-Xi)^2\n",
    "\n"
   ]
  },
  {
   "cell_type": "markdown",
   "metadata": {},
   "source": [
    "#Nelder-mead techniques"
   ]
  },
  {
   "cell_type": "markdown",
   "metadata": {},
   "source": [
    " It does not use any gradient evaluations, it may take longer to find the minimum."
   ]
  },
  {
   "cell_type": "code",
   "execution_count": 17,
   "metadata": {},
   "outputs": [
    {
     "name": "stdout",
     "output_type": "stream",
     "text": [
      "Optimization terminated successfully.\n",
      "         Current function value: 0.000000\n",
      "         Iterations: 339\n",
      "         Function evaluations: 571\n"
     ]
    }
   ],
   "source": [
    "from scipy.optimize import minimize\n",
    "\n",
    "def rosen(x):\n",
    "    return sum(100.0 * (x[1:]-x[:-1]**2.0)**2.0 + (1-x[:-1])**2.0)\n",
    "\n",
    "#since, summation runs from 1 to n-1 \n",
    "#xi+1 is x[1:] all but not not first\n",
    "#xi is all but not last one\n",
    "#results indice values are used for calculation, a temp array\n",
    "\n",
    "\n",
    "\n",
    "x0 = np.array([1.3, 0.7, 0.8, 1.9, 1.2])\n",
    "res = minimize(rosen, x0, method='nelder-mead',options={'xatol': 1e-8, 'disp': True})\n"
   ]
  },
  {
   "cell_type": "code",
   "execution_count": 18,
   "metadata": {},
   "outputs": [
    {
     "name": "stdout",
     "output_type": "stream",
     "text": [
      "[1. 1. 1. 1. 1.]\n"
     ]
    }
   ],
   "source": [
    "print(res.x)"
   ]
  },
  {
   "cell_type": "code",
   "execution_count": 21,
   "metadata": {},
   "outputs": [
    {
     "name": "stdout",
     "output_type": "stream",
     "text": [
      "Optimization terminated successfully.\n",
      "         Current function value: 1.000000\n",
      "         Iterations: 319\n",
      "         Function evaluations: 525\n"
     ]
    }
   ],
   "source": [
    "def rosen_with_args(x, a, b):\n",
    "    \"\"\"The Rosenbrock function with additional arguments\"\"\"\n",
    "    return sum(a*(x[1:]-x[:-1]**2.0)**2.0 + (1-x[:-1])**2.0) + b\n",
    "\n",
    "x0 = np.array([1.3, 0.7, 0.8, 1.9, 1.2])\n",
    "res = minimize(rosen_with_args, x0, method='nelder-mead',args=(0.5,1.0),options={'xatol':1e-8 ,'disp':True})   #xatol is absolute tolearnce is x"
   ]
  },
  {
   "cell_type": "code",
   "execution_count": 22,
   "metadata": {},
   "outputs": [
    {
     "name": "stdout",
     "output_type": "stream",
     "text": [
      "[1.         1.         1.         1.         0.99999999]\n"
     ]
    }
   ],
   "source": [
    "print(res.x)"
   ]
  },
  {
   "cell_type": "markdown",
   "metadata": {},
   "source": [
    "Broyden-Fletcher-Goldfarb-Shanno algorithm"
   ]
  },
  {
   "cell_type": "markdown",
   "metadata": {},
   "source": [
    "this routine uses the gradient of the objective function. If the gradient is not given by the user, then it is estimated using first-differences"
   ]
  },
  {
   "cell_type": "code",
   "execution_count": 28,
   "metadata": {},
   "outputs": [
    {
     "name": "stdout",
     "output_type": "stream",
     "text": [
      "         Current function value: 848.220000\n",
      "         Iterations: 0\n",
      "         Function evaluations: 63\n",
      "         Gradient evaluations: 51\n",
      "[1.3 0.7 0.8 1.9 1.2]\n"
     ]
    },
    {
     "name": "stderr",
     "output_type": "stream",
     "text": [
      "c:\\Users\\ACER\\AppData\\Local\\Programs\\Python\\Python312\\Lib\\site-packages\\scipy\\optimize\\_minimize.py:708: OptimizeWarning: Desired error not necessarily achieved due to precision loss.\n",
      "  res = _minimize_bfgs(fun, x0, args, jac, callback, **options)\n"
     ]
    }
   ],
   "source": [
    "def gradient_rosen(x):\n",
    "    xm = x[1:-1]  #all expect first and last\n",
    "    xm_m1 = x[:-2]  #all expect last two , corresponds to x(j-1)\n",
    "    xm_p1 = x[2:]   #all expect first two , corresponds to x(j+1)\n",
    "    \n",
    "    der = np.zeros_like(x)\n",
    "    \n",
    "    der[1:-1] = 200.0 * (xm - xm_m1**2.0) - 400.0 * xm *(xm_p1 - xm**2.0) - 2*(1-xm)\n",
    "    der[0] = -400.0* x[0]*(x[1] - x[0]**2.0) -2*(1-x[0])  #derivative 0 separetely as it lacks elements left to it ie xj-1, ie xm_m1\n",
    "    der[:-1] = 200.0 * (x[-1] - x[-2]**2.0)  #derivatives last separetely , lacks elements right to it.\n",
    "    \n",
    "    return der\n",
    "x0 = np.array([1.3, 0.7, 0.8, 1.9, 1.2])\n",
    "res = minimize(rosen, x0, method='BFGS', jac=gradient_rosen,options={'disp': True})\n",
    "\n",
    "\n",
    "print(res.x)"
   ]
  },
  {
   "cell_type": "code",
   "execution_count": null,
   "metadata": {},
   "outputs": [],
   "source": []
  },
  {
   "cell_type": "code",
   "execution_count": 29,
   "metadata": {},
   "outputs": [
    {
     "data": {
      "text/plain": [
       "array([[1, 0, 0],\n",
       "       [0, 2, 0],\n",
       "       [0, 0, 3]])"
      ]
     },
     "execution_count": 29,
     "metadata": {},
     "output_type": "execute_result"
    }
   ],
   "source": [
    "np.diag([1,2,3])"
   ]
  },
  {
   "cell_type": "code",
   "execution_count": 30,
   "metadata": {},
   "outputs": [
    {
     "data": {
      "text/plain": [
       "array([[1, 0, 0, 0],\n",
       "       [0, 2, 0, 0],\n",
       "       [0, 0, 3, 0],\n",
       "       [0, 0, 0, 4]])"
      ]
     },
     "execution_count": 30,
     "metadata": {},
     "output_type": "execute_result"
    }
   ],
   "source": [
    "np.diag([1,2,3,4])  #make elements on diagonal and returns 2d matrix"
   ]
  },
  {
   "cell_type": "code",
   "execution_count": 31,
   "metadata": {},
   "outputs": [
    {
     "data": {
      "text/plain": [
       "array([1, 5, 9])"
      ]
     },
     "execution_count": 31,
     "metadata": {},
     "output_type": "execute_result"
    }
   ],
   "source": [
    "np.diag([[1, 2, 3], [4, 5, 6], [7, 8, 9]])   #returns diagonal if 2d matrix is given"
   ]
  },
  {
   "cell_type": "code",
   "execution_count": 32,
   "metadata": {},
   "outputs": [
    {
     "data": {
      "text/plain": [
       "array([2, 6])"
      ]
     },
     "execution_count": 32,
     "metadata": {},
     "output_type": "execute_result"
    }
   ],
   "source": [
    "np.diag([[1, 2, 3], [4, 5, 6], [7, 8, 9]], k=1) #dignoal , offset 1, meaning another digonal right to it."
   ]
  },
  {
   "cell_type": "code",
   "execution_count": 33,
   "metadata": {},
   "outputs": [
    {
     "data": {
      "text/plain": [
       "array([3])"
      ]
     },
     "execution_count": 33,
     "metadata": {},
     "output_type": "execute_result"
    }
   ],
   "source": [
    "np.diag([[1, 2, 3], [4, 5, 6], [7, 8, 9]], k=2) #dignoal , offset 2 ,"
   ]
  },
  {
   "cell_type": "code",
   "execution_count": 34,
   "metadata": {},
   "outputs": [
    {
     "data": {
      "text/plain": [
       "array([4, 8])"
      ]
     },
     "execution_count": 34,
     "metadata": {},
     "output_type": "execute_result"
    }
   ],
   "source": [
    "np.diag([[1, 2, 3], [4, 5, 6], [7, 8, 9]], k=-1) #dignoal , offset 1 , another digonla left to it."
   ]
  },
  {
   "cell_type": "code",
   "execution_count": 35,
   "metadata": {},
   "outputs": [
    {
     "data": {
      "text/plain": [
       "array([[0, 1, 0, 0, 0, 0, 0],\n",
       "       [0, 0, 2, 0, 0, 0, 0],\n",
       "       [0, 0, 0, 3, 0, 0, 0],\n",
       "       [0, 0, 0, 0, 4, 0, 0],\n",
       "       [0, 0, 0, 0, 0, 5, 0],\n",
       "       [0, 0, 0, 0, 0, 0, 6],\n",
       "       [0, 0, 0, 0, 0, 0, 0]])"
      ]
     },
     "execution_count": 35,
     "metadata": {},
     "output_type": "execute_result"
    }
   ],
   "source": [
    "np.diag([1,2,3,4,5,6],1)   #make diagonal with offset 1 to right (superdiagonal technically)"
   ]
  },
  {
   "cell_type": "code",
   "execution_count": 36,
   "metadata": {},
   "outputs": [
    {
     "data": {
      "text/plain": [
       "array([[0, 0, 0, 0, 0, 0, 0],\n",
       "       [1, 0, 0, 0, 0, 0, 0],\n",
       "       [0, 2, 0, 0, 0, 0, 0],\n",
       "       [0, 0, 3, 0, 0, 0, 0],\n",
       "       [0, 0, 0, 4, 0, 0, 0],\n",
       "       [0, 0, 0, 0, 5, 0, 0],\n",
       "       [0, 0, 0, 0, 0, 6, 0]])"
      ]
     },
     "execution_count": 36,
     "metadata": {},
     "output_type": "execute_result"
    }
   ],
   "source": [
    "np.diag([1,2,3,4,5,6],-1)   #make diagonal with offset 1 to left (subdiagonal techincally)"
   ]
  },
  {
   "cell_type": "code",
   "execution_count": null,
   "metadata": {},
   "outputs": [],
   "source": []
  },
  {
   "cell_type": "markdown",
   "metadata": {},
   "source": [
    "So, when 2d array is fetched, it returns diagonal elemets applied offset if given \n",
    "\n",
    "And if elements is given , it makes 2d array applied if offset is given"
   ]
  },
  {
   "cell_type": "code",
   "execution_count": null,
   "metadata": {},
   "outputs": [],
   "source": []
  },
  {
   "cell_type": "code",
   "execution_count": null,
   "metadata": {},
   "outputs": [],
   "source": []
  },
  {
   "cell_type": "markdown",
   "metadata": {},
   "source": [
    "#Netwon-Conjugate gradient algorithms "
   ]
  },
  {
   "cell_type": "code",
   "execution_count": 39,
   "metadata": {},
   "outputs": [
    {
     "name": "stdout",
     "output_type": "stream",
     "text": [
      "         Current function value: 848.220000\n",
      "         Iterations: 0\n",
      "         Function evaluations: 51\n",
      "         Gradient evaluations: 40\n",
      "         Hessian evaluations: 1\n",
      "[1.3 0.7 0.8 1.9 1.2]\n"
     ]
    },
    {
     "name": "stderr",
     "output_type": "stream",
     "text": [
      "c:\\Users\\ACER\\AppData\\Local\\Programs\\Python\\Python312\\Lib\\site-packages\\scipy\\optimize\\_optimize.py:2116: OptimizeWarning: Warning: Desired error not necessarily achieved due to precision loss.\n",
      "  return terminate(2, msg)\n"
     ]
    }
   ],
   "source": [
    "def gradient_rosen(x):\n",
    "    xm = x[1:-1]  #all expect first and last\n",
    "    xm_m1 = x[:-2]  #all expect last two , corresponds to x(j-1)\n",
    "    xm_p1 = x[2:]   #all expect first two , corresponds to x(j+1)\n",
    "    \n",
    "    der = np.zeros_like(x)\n",
    "    \n",
    "    der[1:-1] = 200.0 * (xm - xm_m1**2.0) - 400.0 * xm *(xm_p1 - xm**2.0) - 2*(1-xm)\n",
    "    der[0] = -400.0* x[0]*(x[1] - x[0]**2.0) -2*(1-x[0])  #derivative 0 separetely as it lacks elements left to it ie xj-1, ie xm_m1\n",
    "    der[:-1] = 200.0 * (x[-1] - x[-2]**2.0)  #derivatives last separetely , lacks elements right to it.\n",
    "    \n",
    "    return der\n",
    "\n",
    "\n",
    "def rosen_hess(x):\n",
    "    x = np.asarray(x)  \n",
    "    H = np.diag(-400*x[:-1],1) - np.diag(400*x[:-1],-1)  #right offset1 diagnoal - left offset1 diagnoal  (1 elemets less than main diagonal)\n",
    "    diagonal = np.zeros_like(x)\n",
    "    diagonal[0] = 1200*x[0]**2-400*x[1]+2\n",
    "    diagonal[-1] = 200\n",
    "    diagonal[1:-1] = 202 + 1200*x[1:-1]**2 - 400*x[2:]\n",
    "    H = H + np.diag(diagonal)\n",
    "    return H\n",
    "\n",
    "\n",
    "res = minimize(rosen, x0, method='Newton-CG',jac=gradient_rosen, hess=rosen_hess,\n",
    "               options={'xtol': 1e-8, 'disp': True})   #xtol is x indepedent tolerance\n",
    "\n",
    "\n",
    "print(res.x)\n"
   ]
  },
  {
   "cell_type": "code",
   "execution_count": 41,
   "metadata": {},
   "outputs": [
    {
     "name": "stdout",
     "output_type": "stream",
     "text": [
      "         Current function value: 848.220000\n",
      "         Iterations: 0\n",
      "         Function evaluations: 51\n",
      "         Gradient evaluations: 40\n",
      "         Hessian evaluations: 3\n",
      "[1.3 0.7 0.8 1.9 1.2]\n"
     ]
    },
    {
     "name": "stderr",
     "output_type": "stream",
     "text": [
      "c:\\Users\\ACER\\AppData\\Local\\Programs\\Python\\Python312\\Lib\\site-packages\\scipy\\optimize\\_optimize.py:2116: OptimizeWarning: Warning: Desired error not necessarily achieved due to precision loss.\n",
      "  return terminate(2, msg)\n"
     ]
    }
   ],
   "source": [
    "def rosen_hess_p(x, p):\n",
    "    x = np.asarray(x)\n",
    "    Hp = np.zeros_like(x)\n",
    "    Hp[0] = (1200*x[0]**2 - 400*x[1] + 2)*p[0] - 400*x[0]*p[1]\n",
    "    Hp[1:-1] = -400*x[:-2]*p[:-2]+(202+1200*x[1:-1]**2-400*x[2:])*p[1:-1] \\\n",
    "               -400*x[1:-1]*p[2:]\n",
    "    Hp[-1] = -400*x[-2]*p[-2] + 200*p[-1]\n",
    "    return Hp\n",
    "\n",
    "\n",
    "res = minimize(rosen, x0, method='Newton-CG',\n",
    "               jac=gradient_rosen, hessp=rosen_hess_p,\n",
    "               options={'xtol': 1e-8, 'disp': True})\n",
    "\n",
    "print(res.x)"
   ]
  },
  {
   "cell_type": "code",
   "execution_count": null,
   "metadata": {},
   "outputs": [],
   "source": []
  },
  {
   "cell_type": "markdown",
   "metadata": {},
   "source": [
    "Trust-Region Newton-Conjugate-Gradient Algorithm"
   ]
  },
  {
   "cell_type": "code",
   "execution_count": 43,
   "metadata": {},
   "outputs": [
    {
     "name": "stdout",
     "output_type": "stream",
     "text": [
      "         Current function value: 848.220000\n",
      "         Iterations: 27\n",
      "         Function evaluations: 29\n",
      "         Gradient evaluations: 1\n",
      "         Hessian evaluations: 1\n"
     ]
    },
    {
     "name": "stderr",
     "output_type": "stream",
     "text": [
      "c:\\Users\\ACER\\AppData\\Local\\Programs\\Python\\Python312\\Lib\\site-packages\\scipy\\optimize\\_minimize.py:732: RuntimeWarning: A bad approximation caused failure to predict improvement.\n",
      "  res = _minimize_trust_ncg(fun, x0, args, jac, hess, hessp,\n"
     ]
    },
    {
     "data": {
      "text/plain": [
       "array([1.3, 0.7, 0.8, 1.9, 1.2])"
      ]
     },
     "execution_count": 43,
     "metadata": {},
     "output_type": "execute_result"
    }
   ],
   "source": [
    "res = minimize(rosen, x0, method='trust-ncg',\n",
    "               jac=gradient_rosen, hess=rosen_hess,\n",
    "               options={'gtol': 1e-8, 'disp': True})   #gtol is gradient tolerance\n",
    "\n",
    "res.x"
   ]
  },
  {
   "cell_type": "code",
   "execution_count": 44,
   "metadata": {},
   "outputs": [
    {
     "name": "stdout",
     "output_type": "stream",
     "text": [
      "         Current function value: 848.220000\n",
      "         Iterations: 27\n",
      "         Function evaluations: 29\n",
      "         Gradient evaluations: 1\n",
      "         Hessian evaluations: 58\n"
     ]
    },
    {
     "name": "stderr",
     "output_type": "stream",
     "text": [
      "c:\\Users\\ACER\\AppData\\Local\\Programs\\Python\\Python312\\Lib\\site-packages\\scipy\\optimize\\_minimize.py:732: RuntimeWarning: A bad approximation caused failure to predict improvement.\n",
      "  res = _minimize_trust_ncg(fun, x0, args, jac, hess, hessp,\n"
     ]
    },
    {
     "data": {
      "text/plain": [
       "array([1.3, 0.7, 0.8, 1.9, 1.2])"
      ]
     },
     "execution_count": 44,
     "metadata": {},
     "output_type": "execute_result"
    }
   ],
   "source": [
    "res = minimize(rosen, x0, method='trust-ncg',\n",
    "               jac=gradient_rosen, hessp=rosen_hess_p,\n",
    "               options={'gtol': 1e-8, 'disp': True})\n",
    "\n",
    "res.x"
   ]
  },
  {
   "cell_type": "code",
   "execution_count": null,
   "metadata": {},
   "outputs": [],
   "source": []
  },
  {
   "cell_type": "markdown",
   "metadata": {},
   "source": [
    "Trust-Region Truncated Generalized Lanczos / Conjugate Gradient Algorithm (method='trust-krylov')"
   ]
  },
  {
   "cell_type": "code",
   "execution_count": 45,
   "metadata": {},
   "outputs": [
    {
     "name": "stdout",
     "output_type": "stream",
     "text": [
      " iter inewton type    objective     âgââ_Mâ»Â¹      leftmost         Î»             Î³             Î´             Î±             Î²       \n",
      "     0     0  cg_i -4.379340e+02  1.559961e+03  0.000000e+00  0.000000e+00  9.640000e+02  1.061000e+03  9.425071e-04  2.618627e+00\n",
      "\n",
      " TR Solving trust region problem, radius 1.000000e+00; starting on first irreducible block\n",
      " TR Coldstart. Seeking suitable initial Î»â, starting with 0\n",
      " TR Starting Newton iteration for Î»â with initial choice 0.000000e+00\n",
      " TR  iter        Î»            dÎ»       âhâ(Î»)â-radius\n",
      " TR      1  7.773885e+02  7.773885e+02  5.128718e-03\n",
      " TR      2  7.816906e+02  4.302153e+00  2.790987e-07\n",
      " TR      3  7.816909e+02  2.353445e-04  6.661338e-16\n",
      " TR Newton breakdown, dÎ» = 5.617044e-13 Î» = 7.816909e+02\n",
      "\n",
      "\n",
      " iter inewton type    objective     Î³áµ¢ââ|háµ¢|      leftmost         Î»             Î³             Î´             Î±             Î²       \n",
      "\n",
      "     1     4  cg_b -8.293798e+02  3.410533e+02  0.000000e+00  7.816909e+02  1.716928e+03  2.982425e+03  4.900458e-03  1.621908e+01\n",
      "\n",
      "\n",
      " TR Solving trust region problem, radius 2.500000e-01; starting on first irreducible block\n",
      " TR Starting Newton iteration for Î»â with initial choice 7.816909e+02\n",
      " TR  iter        Î»            dÎ»       âhâ(Î»)â-radius\n",
      " TR      1  3.311382e+03  2.529692e+03  5.948552e-03\n",
      " TR      2  3.394517e+03  8.313439e+01  4.085292e-06\n",
      " TR      3  3.394575e+03  5.853380e-02  1.991185e-12\n",
      " TR Newton breakdown, dÎ» = 2.853006e-08 Î» = 3.394575e+03\n",
      "\n",
      " iter inewton type    objective     Î³áµ¢ââ|háµ¢|      leftmost         Î»             Î³             Î´       \n",
      "     1     4   hot -2.224370e+02  5.341409e+01  0.000000e+00  3.394575e+03  1.716928e+03  2.982425e+03\n",
      "\n",
      "Early exit as hotstart with early termination on\n",
      "\n",
      " TR Solving trust region problem, radius 6.250000e-02; starting on first irreducible block\n",
      " TR Starting Newton iteration for Î»â with initial choice 3.394575e+03\n",
      " TR  iter        Î»            dÎ»       âhâ(Î»)â-radius\n",
      " TR      1  1.414071e+04  1.074614e+04  1.961908e-03\n",
      " TR      2  1.460380e+04  4.630840e+02  6.390386e-07\n",
      " TR      3  1.460395e+04  1.556737e-01  6.869505e-14\n",
      " TR Newton breakdown, dÎ» = 1.673471e-08 Î» = 1.460395e+04\n",
      "\n",
      " iter inewton type    objective     Î³áµ¢ââ|háµ¢|      leftmost         Î»             Î³             Î´       \n",
      "     1     4   hot -5.850580e+01  4.990826e+00  0.000000e+00  1.460395e+04  1.716928e+03  2.982425e+03\n",
      "\n",
      "Early exit as hotstart with early termination on\n",
      "\n",
      " TR Solving trust region problem, radius 1.562500e-02; starting on first irreducible block\n",
      " TR Starting Newton iteration for Î»â with initial choice 1.460395e+04\n",
      " TR  iter        Î»            dÎ»       âhâ(Î»)â-radius\n",
      " TR      1  6.028057e+04  4.567662e+04  1.080191e-04\n",
      " TR      2  6.070370e+04  4.231324e+02  7.608126e-10\n",
      " TR      3  6.070370e+04  3.000900e-03 -1.734723e-18\n",
      "\n",
      " iter inewton type    objective     Î³áµ¢ââ|háµ¢|      leftmost         Î»             Î³             Î´       \n",
      "     1     3   hot -1.493863e+01  3.460558e-01  0.000000e+00  6.070370e+04  1.716928e+03  2.982425e+03\n",
      "\n",
      "Early exit as hotstart with early termination on\n",
      "\n",
      " TR Solving trust region problem, radius 3.906250e-03; starting on first irreducible block\n",
      " TR Starting Newton iteration for Î»â with initial choice 6.070370e+04\n",
      " TR  iter        Î»            dÎ»       âhâ(Î»)â-radius\n",
      " TR      1  2.455944e+05  1.848907e+05  2.317109e-06\n",
      " TR      2  2.457407e+05  1.462901e+02  9.669262e-14\n",
      " TR      3  2.457407e+05  6.108287e-06  0.000000e+00\n",
      "\n",
      " iter inewton type    objective     Î³áµ¢ââ|háµ¢|      leftmost         Î»             Î³             Î´       \n",
      "     1     3   hot -3.757621e+00  2.215961e-02  0.000000e+00  2.457407e+05  1.716928e+03  2.982425e+03\n",
      "\n",
      "Early exit as hotstart with early termination on\n",
      "\n",
      " TR Solving trust region problem, radius 9.765625e-04; starting on first irreducible block\n",
      " TR Starting Newton iteration for Î»â with initial choice 2.457407e+05\n",
      " TR  iter        Î»            dÎ»       âhâ(Î»)â-radius\n",
      " TR      1  9.860401e+05  7.402994e+05  3.895326e-08\n",
      " TR      2  9.860795e+05  3.937327e+01  7.155734e-18\n",
      " TR Newton breakdown, dÎ» = 7.233179e-09 Î» = 9.860795e+05\n",
      "\n",
      " iter inewton type    objective     Î³áµ¢ââ|háµ¢|      leftmost         Î»             Î³             Î´       \n",
      "     1     3   hot -9.409017e-01  1.393172e-03  0.000000e+00  9.860795e+05  1.716928e+03  2.982425e+03\n",
      "\n",
      "Early exit as hotstart with early termination on\n",
      "\n",
      " TR Solving trust region problem, radius 2.441406e-04; starting on first irreducible block\n",
      " TR Starting Newton iteration for Î»â with initial choice 9.860795e+05\n",
      " TR  iter        Î»            dÎ»       âhâ(Î»)â-radius\n",
      " TR      1  3.947474e+06  2.961395e+06  6.195296e-10\n",
      " TR      2  3.947484e+06  1.001977e+01  0.000000e+00\n",
      "\n",
      " iter inewton type    objective     Î³áµ¢ââ|háµ¢|      leftmost         Î»             Î³             Î´       \n",
      "     1     2   hot -2.353200e-01  8.720077e-05  0.000000e+00  3.947484e+06  1.716928e+03  2.982425e+03\n",
      "\n",
      "Early exit as hotstart with early termination on\n",
      "\n",
      " TR Solving trust region problem, radius 6.103516e-05; starting on first irreducible block\n",
      " TR Starting Newton iteration for Î»â with initial choice 3.947484e+06\n",
      " TR  iter        Î»            dÎ»       âhâ(Î»)â-radius\n",
      " TR      1  1.579311e+07  1.184563e+07  9.722766e-12\n",
      " TR      2  1.579312e+07  2.515977e+00 -6.776264e-21\n",
      "\n",
      " iter inewton type    objective     Î³áµ¢ââ|háµ¢|      leftmost         Î»             Î³             Î´       \n",
      "     1     2   hot -5.883591e-02  5.452039e-06  0.000000e+00  1.579312e+07  1.716928e+03  2.982425e+03\n",
      "\n",
      "Early exit as hotstart with early termination on\n",
      "\n",
      " TR Solving trust region problem, radius 1.525879e-05; starting on first irreducible block\n",
      " TR Starting Newton iteration for Î»â with initial choice 1.579312e+07\n",
      " TR  iter        Î»            dÎ»       âhâ(Î»)â-radius\n",
      " TR      1  6.317564e+07  4.738253e+07  1.520848e-13\n",
      " TR      2  6.317564e+07  6.296840e-01  0.000000e+00\n",
      "\n",
      " iter inewton type    objective     Î³áµ¢ââ|háµ¢|      leftmost         Î»             Î³             Î´       \n",
      "     1     2   hot -1.470935e-02  3.407835e-07  0.000000e+00  6.317564e+07  1.716928e+03  2.982425e+03\n",
      "\n",
      "Early exit as hotstart with early termination on\n",
      "\n",
      " TR Solving trust region problem, radius 3.814697e-06; starting on first irreducible block\n",
      " TR Starting Newton iteration for Î»â with initial choice 6.317564e+07\n",
      " TR  iter        Î»            dÎ»       âhâ(Î»)â-radius\n",
      " TR      1  2.527058e+08  1.895301e+08  2.376975e-15\n",
      " TR      2  2.527058e+08  1.574641e-01  8.470329e-22\n",
      "\n",
      " iter inewton type    objective     Î³áµ¢ââ|háµ¢|      leftmost         Î»             Î³             Î´       \n",
      "     1     2   hot -3.677360e-03  2.129946e-08  0.000000e+00  2.527058e+08  1.716928e+03  2.982425e+03\n",
      "\n",
      "Early exit as hotstart with early termination on\n",
      "\n",
      " TR Solving trust region problem, radius 9.536743e-07; starting on first irreducible block\n",
      " TR Starting Newton iteration for Î»â with initial choice 2.527058e+08\n",
      " TR  iter        Î»            dÎ»       âhâ(Î»)â-radius\n",
      " TR      1  1.010826e+09  7.581204e+08  3.714261e-17\n",
      " TR      2  1.010826e+09  3.936853e-02  2.117582e-22\n",
      "\n",
      " iter inewton type    objective     Î³áµ¢ââ|háµ¢|      leftmost         Î»             Î³             Î´       \n",
      "     1     2   hot -9.193416e-04  1.331224e-09  0.000000e+00  1.010826e+09  1.716928e+03  2.982425e+03\n",
      "\n",
      "Early exit as hotstart with early termination on\n",
      "\n",
      " TR Solving trust region problem, radius 2.384186e-07; starting on first irreducible block\n",
      " TR Starting Newton iteration for Î»â with initial choice 1.010826e+09\n",
      " TR  iter        Î»            dÎ»       âhâ(Î»)â-radius\n",
      " TR      1  4.043308e+09  3.032482e+09  5.803764e-19\n",
      " TR Newton breakdown, dÎ» = 9.842526e-03 Î» = 4.043308e+09\n",
      "\n",
      " iter inewton type    objective     Î³áµ¢ââ|háµ¢|      leftmost         Î»             Î³             Î´       \n",
      "     1     2   hot -2.298355e-04  8.320159e-11  0.000000e+00  4.043308e+09  1.716928e+03  2.982425e+03\n",
      "\n",
      "Early exit as hotstart with early termination on\n",
      "\n",
      " TR Solving trust region problem, radius 5.960464e-08; starting on first irreducible block\n",
      " TR Starting Newton iteration for Î»â with initial choice 4.043308e+09\n",
      " TR  iter        Î»            dÎ»       âhâ(Î»)â-radius\n",
      " TR      1  1.617324e+10  1.212993e+10  9.065900e-21\n",
      " TR Newton breakdown, dÎ» = 2.459958e-03 Î» = 1.617324e+10\n",
      "\n",
      " iter inewton type    objective     Î³áµ¢ââ|háµ¢|      leftmost         Î»             Î³             Î´       \n",
      "     1     2   hot -5.745888e-05  5.200101e-12  0.000000e+00  1.617324e+10  1.716928e+03  2.982425e+03\n",
      "\n",
      "Early exit as hotstart with early termination on\n",
      "\n",
      " TR Solving trust region problem, radius 1.490116e-08; starting on first irreducible block\n",
      " TR Starting Newton iteration for Î»â with initial choice 1.617324e+10\n",
      " TR  iter        Î»            dÎ»       âhâ(Î»)â-radius\n",
      " TR      1  6.469294e+10  4.851971e+10  1.389663e-22\n",
      " TR Newton breakdown, dÎ» = 6.033182e-04 Î» = 6.469294e+10\n",
      "\n",
      " iter inewton type    objective     Î³áµ¢ââ|háµ¢|      leftmost         Î»             Î³             Î´       \n",
      "     1     2   hot -1.436472e-05  3.250064e-13  0.000000e+00  6.469294e+10  1.716928e+03  2.982425e+03\n",
      "\n",
      "Early exit as hotstart with early termination on\n",
      "\n",
      " TR Solving trust region problem, radius 3.725290e-09; starting on first irreducible block\n",
      " TR Starting Newton iteration for Î»â with initial choice 6.469294e+10\n",
      " TR  iter        Î»            dÎ»       âhâ(Î»)â-radius\n",
      " TR      1  2.587718e+11  1.940788e+11  3.308722e-24\n",
      " TR Newton breakdown, dÎ» = 2.298355e-04 Î» = 2.587718e+11\n",
      "\n",
      " iter inewton type    objective     Î³áµ¢ââ|háµ¢|      leftmost         Î»             Î³             Î´       \n",
      "     1     2   hot -3.591180e-06  2.031290e-14  0.000000e+00  2.587718e+11  1.716928e+03  2.982425e+03\n",
      "\n",
      "Early exit as hotstart with early termination on\n",
      "\n",
      " TR Solving trust region problem, radius 9.313226e-10; starting on first irreducible block\n",
      " TR Starting Newton iteration for Î»â with initial choice 2.587718e+11\n",
      " TR  iter        Î»            dÎ»       âhâ(Î»)â-radius\n",
      " TR      1  1.035087e+12  7.763153e+11  2.067952e-25\n",
      "\n",
      " iter inewton type    objective     Î³áµ¢ââ|háµ¢|      leftmost         Î»             Î³             Î´       \n",
      "     1     1   hot -8.977950e-07  1.269556e-15  0.000000e+00  1.035087e+12  1.716928e+03  2.982425e+03\n",
      "\n",
      "Early exit as hotstart with early termination on\n",
      "\n",
      " TR Solving trust region problem, radius 2.328306e-10; starting on first irreducible block\n",
      " TR Starting Newton iteration for Î»â with initial choice 1.035087e+12\n",
      " TR  iter        Î»            dÎ»       âhâ(Î»)â-radius\n",
      " TR      1  4.140348e+12  3.105261e+12 -2.584939e-26\n",
      "\n",
      " iter inewton type    objective     Î³áµ¢ââ|háµ¢|      leftmost         Î»             Î³             Î´       \n",
      "     1     1   hot -2.244487e-07  7.934726e-17  0.000000e+00  4.140348e+12  1.716928e+03  2.982425e+03\n",
      "\n",
      "Early exit as hotstart with early termination on\n",
      "\n",
      " TR Solving trust region problem, radius 5.820766e-11; starting on first irreducible block\n",
      " TR Starting Newton iteration for Î»â with initial choice 4.140348e+12\n",
      " TR  iter        Î»            dÎ»       âhâ(Î»)â-radius\n",
      " TR      1  1.656139e+13  1.242105e+13  0.000000e+00\n",
      "\n",
      " iter inewton type    objective     Î³áµ¢ââ|háµ¢|      leftmost         Î»             Î³             Î´       \n",
      "     1     1   hot -5.611219e-08  4.959204e-18  0.000000e+00  1.656139e+13  1.716928e+03  2.982425e+03\n",
      "\n",
      "Early exit as hotstart with early termination on\n",
      "\n",
      " TR Solving trust region problem, radius 1.455192e-11; starting on first irreducible block\n",
      " TR Starting Newton iteration for Î»â with initial choice 1.656139e+13\n",
      " TR  iter        Î»            dÎ»       âhâ(Î»)â-radius\n",
      " TR      1  6.624558e+13  4.968418e+13  0.000000e+00\n",
      "\n",
      " iter inewton type    objective     Î³áµ¢ââ|háµ¢|      leftmost         Î»             Î³             Î´       \n",
      "     1     1   hot -1.402805e-08  3.099502e-19  0.000000e+00  6.624558e+13  1.716928e+03  2.982425e+03\n",
      "\n",
      "Early exit as hotstart with early termination on\n",
      "\n",
      " TR Solving trust region problem, radius 3.637979e-12; starting on first irreducible block\n",
      " TR Starting Newton iteration for Î»â with initial choice 6.624558e+13\n",
      " TR  iter        Î»            dÎ»       âhâ(Î»)â-radius\n",
      " TR      1  2.649823e+14  1.987367e+14  0.000000e+00\n",
      "\n",
      " iter inewton type    objective     Î³áµ¢ââ|háµ¢|      leftmost         Î»             Î³             Î´       \n",
      "     1     1   hot -3.507012e-09  1.937189e-20  0.000000e+00  2.649823e+14  1.716928e+03  2.982425e+03\n",
      "\n",
      "Early exit as hotstart with early termination on\n",
      "\n",
      " TR Solving trust region problem, radius 9.094947e-13; starting on first irreducible block\n",
      " TR Starting Newton iteration for Î»â with initial choice 2.649823e+14\n",
      " TR  iter        Î»            dÎ»       âhâ(Î»)â-radius\n",
      " TR      1  1.059929e+15  7.949469e+14  0.000000e+00\n",
      "\n",
      " iter inewton type    objective     Î³áµ¢ââ|háµ¢|      leftmost         Î»             Î³             Î´       \n",
      "     1     1   hot -8.767529e-10  1.210743e-21  0.000000e+00  1.059929e+15  1.716928e+03  2.982425e+03\n",
      "\n",
      "Early exit as hotstart with early termination on\n",
      "\n",
      " TR Solving trust region problem, radius 2.273737e-13; starting on first irreducible block\n",
      " TR Starting Newton iteration for Î»â with initial choice 1.059929e+15\n",
      " TR  iter        Î»            dÎ»       âhâ(Î»)â-radius\n",
      " TR      1  4.239717e+15  3.179788e+15  0.000000e+00\n",
      "\n",
      " iter inewton type    objective     Î³áµ¢ââ|háµ¢|      leftmost         Î»             Î³             Î´       \n",
      "     1     1   hot -2.191882e-10  7.567144e-23  0.000000e+00  4.239717e+15  1.716928e+03  2.982425e+03\n",
      "\n",
      "Early exit as hotstart with early termination on\n",
      "\n",
      " TR Solving trust region problem, radius 5.684342e-14; starting on first irreducible block\n",
      " TR Starting Newton iteration for Î»â with initial choice 4.239717e+15\n",
      " TR  iter        Î»            dÎ»       âhâ(Î»)â-radius\n",
      " TR      1  1.695887e+16  1.271915e+16 -6.310887e-30\n",
      "\n",
      " iter inewton type    objective     Î³áµ¢ââ|háµ¢|      leftmost         Î»             Î³             Î´       \n",
      "     1     1   hot -5.479706e-11  4.729465e-24  0.000000e+00  1.695887e+16  1.716928e+03  2.982425e+03\n",
      "\n",
      "Early exit as hotstart with early termination on\n",
      "\n",
      " TR Solving trust region problem, radius 1.421085e-14; starting on first irreducible block\n",
      " TR Starting Newton iteration for Î»â with initial choice 1.695887e+16\n",
      " TR  iter        Î»            dÎ»       âhâ(Î»)â-radius\n",
      " TR      1  6.783547e+16  5.087660e+16 -1.577722e-30\n",
      "\n",
      " iter inewton type    objective     Î³áµ¢ââ|háµ¢|      leftmost         Î»             Î³             Î´       \n",
      "     1     1   hot -1.369926e-11  2.955916e-25  0.000000e+00  6.783547e+16  1.716928e+03  2.982425e+03\n",
      "\n",
      "Early exit as hotstart with early termination on\n",
      "\n",
      " TR Solving trust region problem, radius 3.552714e-15; starting on first irreducible block\n",
      " TR Starting Newton iteration for Î»â with initial choice 6.783547e+16\n",
      " TR  iter        Î»            dÎ»       âhâ(Î»)â-radius\n",
      " TR      1  2.713419e+17  2.035064e+17  0.000000e+00\n",
      "\n",
      " iter inewton type    objective     Î³áµ¢ââ|háµ¢|      leftmost         Î»             Î³             Î´       \n",
      "     1     1   hot -3.424816e-12  1.847447e-26  0.000000e+00  2.713419e+17  1.716928e+03  2.982425e+03\n",
      "\n",
      "Early exit as hotstart with early termination on\n",
      "\n",
      " TR Solving trust region problem, radius 8.881784e-16; starting on first irreducible block\n",
      " TR Starting Newton iteration for Î»â with initial choice 2.713419e+17\n",
      " TR  iter        Î»            dÎ»       âhâ(Î»)â-radius\n",
      " TR      1  1.085368e+18  8.140256e+17  0.000000e+00\n",
      "\n",
      " iter inewton type    objective     Î³áµ¢ââ|háµ¢|      leftmost         Î»             Î³             Î´       \n",
      "     1     1   hot -8.562040e-13  1.154655e-27  0.000000e+00  1.085368e+18  1.716928e+03  2.982425e+03\n",
      "\n",
      "Early exit as hotstart with early termination on\n",
      "\n",
      " TR Solving trust region problem, radius 2.220446e-16; starting on first irreducible block\n",
      " TR Starting Newton iteration for Î»â with initial choice 1.085368e+18\n",
      " TR  iter        Î»            dÎ»       âhâ(Î»)â-radius\n",
      " TR      1  4.341470e+18  3.256103e+18  0.000000e+00\n",
      "\n",
      " iter inewton type    objective     Î³áµ¢ââ|háµ¢|      leftmost         Î»             Î³             Î´       \n",
      "     1     1   hot -2.140510e-13  7.216591e-29  0.000000e+00  4.341470e+18  1.716928e+03  2.982425e+03\n",
      "\n",
      "Early exit as hotstart with early termination on\n",
      "\n",
      " TR Solving trust region problem, radius 5.551115e-17; starting on first irreducible block\n",
      " TR Starting Newton iteration for Î»â with initial choice 4.341470e+18\n",
      " TR  iter        Î»            dÎ»       âhâ(Î»)â-radius\n",
      " TR      1  1.736588e+19  1.302441e+19 -6.162976e-33\n",
      "\n",
      " iter inewton type    objective     Î³áµ¢ââ|háµ¢|      leftmost         Î»             Î³             Î´       \n",
      "     1     1   hot -5.351275e-14  4.510369e-30  0.000000e+00  1.736588e+19  1.716928e+03  2.982425e+03\n",
      "\n",
      "Early exit as hotstart with early termination on\n",
      "\n",
      "         Current function value: 848.220000\n",
      "         Iterations: 27\n",
      "         Function evaluations: 29\n",
      "         Gradient evaluations: 29\n",
      "         Hessian evaluations: 1\n"
     ]
    },
    {
     "name": "stderr",
     "output_type": "stream",
     "text": [
      "c:\\Users\\ACER\\AppData\\Local\\Programs\\Python\\Python312\\Lib\\site-packages\\scipy\\optimize\\_minimize.py:735: RuntimeWarning: A bad approximation caused failure to predict improvement.\n",
      "  res = _minimize_trust_krylov(fun, x0, args, jac, hess, hessp,\n"
     ]
    },
    {
     "data": {
      "text/plain": [
       "array([1.3, 0.7, 0.8, 1.9, 1.2])"
      ]
     },
     "execution_count": 45,
     "metadata": {},
     "output_type": "execute_result"
    }
   ],
   "source": [
    "res = minimize(rosen, x0, method='trust-krylov',\n",
    "               jac=gradient_rosen, hess=rosen_hess,\n",
    "               options={'gtol': 1e-8, 'disp': True})\n",
    "res.x"
   ]
  },
  {
   "cell_type": "code",
   "execution_count": 46,
   "metadata": {},
   "outputs": [
    {
     "name": "stdout",
     "output_type": "stream",
     "text": [
      " iter inewton type    objective     âgââ_Mâ»Â¹      leftmost         Î»             Î³             Î´             Î±             Î²       \n",
      "     0     0  cg_i -4.379340e+02  1.559961e+03  0.000000e+00  0.000000e+00  9.640000e+02  1.061000e+03  9.425071e-04  2.618627e+00\n",
      "\n",
      " TR Solving trust region problem, radius 1.000000e+00; starting on first irreducible block\n",
      " TR Coldstart. Seeking suitable initial Î»â, starting with 0\n",
      " TR Starting Newton iteration for Î»â with initial choice 0.000000e+00\n",
      " TR  iter        Î»            dÎ»       âhâ(Î»)â-radius\n",
      " TR      1  7.773885e+02  7.773885e+02  5.128718e-03\n",
      " TR      2  7.816906e+02  4.302153e+00  2.790987e-07\n",
      " TR      3  7.816909e+02  2.353445e-04  6.661338e-16\n",
      " TR Newton breakdown, dÎ» = 5.617044e-13 Î» = 7.816909e+02\n",
      "\n",
      "\n",
      " iter inewton type    objective     Î³áµ¢ââ|háµ¢|      leftmost         Î»             Î³             Î´             Î±             Î²       \n",
      "\n",
      "     1     4  cg_b -8.293798e+02  3.410533e+02  0.000000e+00  7.816909e+02  1.716928e+03  2.982425e+03  4.900458e-03  1.621908e+01\n",
      "\n",
      "\n",
      " TR Solving trust region problem, radius 2.500000e-01; starting on first irreducible block\n",
      " TR Starting Newton iteration for Î»â with initial choice 7.816909e+02\n",
      " TR  iter        Î»            dÎ»       âhâ(Î»)â-radius\n",
      " TR      1  3.311382e+03  2.529692e+03  5.948552e-03\n",
      " TR      2  3.394517e+03  8.313439e+01  4.085292e-06\n",
      " TR      3  3.394575e+03  5.853380e-02  1.991185e-12\n",
      " TR Newton breakdown, dÎ» = 2.853006e-08 Î» = 3.394575e+03\n",
      "\n",
      " iter inewton type    objective     Î³áµ¢ââ|háµ¢|      leftmost         Î»             Î³             Î´       \n",
      "     1     4   hot -2.224370e+02  5.341409e+01  0.000000e+00  3.394575e+03  1.716928e+03  2.982425e+03\n",
      "\n",
      "Early exit as hotstart with early termination on\n",
      "\n",
      " TR Solving trust region problem, radius 6.250000e-02; starting on first irreducible block\n",
      " TR Starting Newton iteration for Î»â with initial choice 3.394575e+03\n",
      " TR  iter        Î»            dÎ»       âhâ(Î»)â-radius\n",
      " TR      1  1.414071e+04  1.074614e+04  1.961908e-03\n",
      " TR      2  1.460380e+04  4.630840e+02  6.390386e-07\n",
      " TR      3  1.460395e+04  1.556737e-01  6.869505e-14\n",
      " TR Newton breakdown, dÎ» = 1.673471e-08 Î» = 1.460395e+04\n",
      "\n",
      " iter inewton type    objective     Î³áµ¢ââ|háµ¢|      leftmost         Î»             Î³             Î´       \n",
      "     1     4   hot -5.850580e+01  4.990826e+00  0.000000e+00  1.460395e+04  1.716928e+03  2.982425e+03\n",
      "\n",
      "Early exit as hotstart with early termination on\n",
      "\n",
      " TR Solving trust region problem, radius 1.562500e-02; starting on first irreducible block\n",
      " TR Starting Newton iteration for Î»â with initial choice 1.460395e+04\n",
      " TR  iter        Î»            dÎ»       âhâ(Î»)â-radius\n",
      " TR      1  6.028057e+04  4.567662e+04  1.080191e-04\n",
      " TR      2  6.070370e+04  4.231324e+02  7.608126e-10\n",
      " TR      3  6.070370e+04  3.000900e-03 -1.734723e-18\n",
      "\n",
      " iter inewton type    objective     Î³áµ¢ââ|háµ¢|      leftmost         Î»             Î³             Î´       \n",
      "     1     3   hot -1.493863e+01  3.460558e-01  0.000000e+00  6.070370e+04  1.716928e+03  2.982425e+03\n",
      "\n",
      "Early exit as hotstart with early termination on\n",
      "\n",
      " TR Solving trust region problem, radius 3.906250e-03; starting on first irreducible block\n",
      " TR Starting Newton iteration for Î»â with initial choice 6.070370e+04\n",
      " TR  iter        Î»            dÎ»       âhâ(Î»)â-radius\n",
      " TR      1  2.455944e+05  1.848907e+05  2.317109e-06\n",
      " TR      2  2.457407e+05  1.462901e+02  9.669262e-14\n",
      " TR      3  2.457407e+05  6.108287e-06  0.000000e+00\n",
      "\n",
      " iter inewton type    objective     Î³áµ¢ââ|háµ¢|      leftmost         Î»             Î³             Î´       \n",
      "     1     3   hot -3.757621e+00  2.215961e-02  0.000000e+00  2.457407e+05  1.716928e+03  2.982425e+03\n",
      "\n",
      "Early exit as hotstart with early termination on\n",
      "\n",
      " TR Solving trust region problem, radius 9.765625e-04; starting on first irreducible block\n",
      " TR Starting Newton iteration for Î»â with initial choice 2.457407e+05\n",
      " TR  iter        Î»            dÎ»       âhâ(Î»)â-radius\n",
      " TR      1  9.860401e+05  7.402994e+05  3.895326e-08\n",
      " TR      2  9.860795e+05  3.937327e+01  7.155734e-18\n",
      " TR Newton breakdown, dÎ» = 7.233179e-09 Î» = 9.860795e+05\n",
      "\n",
      " iter inewton type    objective     Î³áµ¢ââ|háµ¢|      leftmost         Î»             Î³             Î´       \n",
      "     1     3   hot -9.409017e-01  1.393172e-03  0.000000e+00  9.860795e+05  1.716928e+03  2.982425e+03\n",
      "\n",
      "Early exit as hotstart with early termination on\n",
      "\n",
      " TR Solving trust region problem, radius 2.441406e-04; starting on first irreducible block\n",
      " TR Starting Newton iteration for Î»â with initial choice 9.860795e+05\n",
      " TR  iter        Î»            dÎ»       âhâ(Î»)â-radius\n",
      " TR      1  3.947474e+06  2.961395e+06  6.195296e-10\n",
      " TR      2  3.947484e+06  1.001977e+01  0.000000e+00\n",
      "\n",
      " iter inewton type    objective     Î³áµ¢ââ|háµ¢|      leftmost         Î»             Î³             Î´       \n",
      "     1     2   hot -2.353200e-01  8.720077e-05  0.000000e+00  3.947484e+06  1.716928e+03  2.982425e+03\n",
      "\n",
      "Early exit as hotstart with early termination on\n",
      "\n",
      " TR Solving trust region problem, radius 6.103516e-05; starting on first irreducible block\n",
      " TR Starting Newton iteration for Î»â with initial choice 3.947484e+06\n",
      " TR  iter        Î»            dÎ»       âhâ(Î»)â-radius\n",
      " TR      1  1.579311e+07  1.184563e+07  9.722766e-12\n",
      " TR      2  1.579312e+07  2.515977e+00 -6.776264e-21\n",
      "\n",
      " iter inewton type    objective     Î³áµ¢ââ|háµ¢|      leftmost         Î»             Î³             Î´       \n",
      "     1     2   hot -5.883591e-02  5.452039e-06  0.000000e+00  1.579312e+07  1.716928e+03  2.982425e+03\n",
      "\n",
      "Early exit as hotstart with early termination on\n",
      "\n",
      " TR Solving trust region problem, radius 1.525879e-05; starting on first irreducible block\n",
      " TR Starting Newton iteration for Î»â with initial choice 1.579312e+07\n",
      " TR  iter        Î»            dÎ»       âhâ(Î»)â-radius\n",
      " TR      1  6.317564e+07  4.738253e+07  1.520848e-13\n",
      " TR      2  6.317564e+07  6.296840e-01  0.000000e+00\n",
      "\n",
      " iter inewton type    objective     Î³áµ¢ââ|háµ¢|      leftmost         Î»             Î³             Î´       \n",
      "     1     2   hot -1.470935e-02  3.407835e-07  0.000000e+00  6.317564e+07  1.716928e+03  2.982425e+03\n",
      "\n",
      "Early exit as hotstart with early termination on\n",
      "\n",
      " TR Solving trust region problem, radius 3.814697e-06; starting on first irreducible block\n",
      " TR Starting Newton iteration for Î»â with initial choice 6.317564e+07\n",
      " TR  iter        Î»            dÎ»       âhâ(Î»)â-radius\n",
      " TR      1  2.527058e+08  1.895301e+08  2.376975e-15\n",
      " TR      2  2.527058e+08  1.574641e-01  8.470329e-22\n",
      "\n",
      " iter inewton type    objective     Î³áµ¢ââ|háµ¢|      leftmost         Î»             Î³             Î´       \n",
      "     1     2   hot -3.677360e-03  2.129946e-08  0.000000e+00  2.527058e+08  1.716928e+03  2.982425e+03\n",
      "\n",
      "Early exit as hotstart with early termination on\n",
      "\n",
      " TR Solving trust region problem, radius 9.536743e-07; starting on first irreducible block\n",
      " TR Starting Newton iteration for Î»â with initial choice 2.527058e+08\n",
      " TR  iter        Î»            dÎ»       âhâ(Î»)â-radius\n",
      " TR      1  1.010826e+09  7.581204e+08  3.714261e-17\n",
      " TR      2  1.010826e+09  3.936853e-02  2.117582e-22\n",
      "\n",
      " iter inewton type    objective     Î³áµ¢ââ|háµ¢|      leftmost         Î»             Î³             Î´       \n",
      "     1     2   hot -9.193416e-04  1.331224e-09  0.000000e+00  1.010826e+09  1.716928e+03  2.982425e+03\n",
      "\n",
      "Early exit as hotstart with early termination on\n",
      "\n",
      " TR Solving trust region problem, radius 2.384186e-07; starting on first irreducible block\n",
      " TR Starting Newton iteration for Î»â with initial choice 1.010826e+09\n",
      " TR  iter        Î»            dÎ»       âhâ(Î»)â-radius\n",
      " TR      1  4.043308e+09  3.032482e+09  5.803764e-19\n",
      " TR Newton breakdown, dÎ» = 9.842526e-03 Î» = 4.043308e+09\n",
      "\n",
      " iter inewton type    objective     Î³áµ¢ââ|háµ¢|      leftmost         Î»             Î³             Î´       \n",
      "     1     2   hot -2.298355e-04  8.320159e-11  0.000000e+00  4.043308e+09  1.716928e+03  2.982425e+03\n",
      "\n",
      "Early exit as hotstart with early termination on\n",
      "\n",
      " TR Solving trust region problem, radius 5.960464e-08; starting on first irreducible block\n",
      " TR Starting Newton iteration for Î»â with initial choice 4.043308e+09\n",
      " TR  iter        Î»            dÎ»       âhâ(Î»)â-radius\n",
      " TR      1  1.617324e+10  1.212993e+10  9.065900e-21\n",
      " TR Newton breakdown, dÎ» = 2.459958e-03 Î» = 1.617324e+10\n",
      "\n",
      " iter inewton type    objective     Î³áµ¢ââ|háµ¢|      leftmost         Î»             Î³             Î´       \n",
      "     1     2   hot -5.745888e-05  5.200101e-12  0.000000e+00  1.617324e+10  1.716928e+03  2.982425e+03\n",
      "\n",
      "Early exit as hotstart with early termination on\n",
      "\n",
      " TR Solving trust region problem, radius 1.490116e-08; starting on first irreducible block\n",
      " TR Starting Newton iteration for Î»â with initial choice 1.617324e+10\n",
      " TR  iter        Î»            dÎ»       âhâ(Î»)â-radius\n",
      " TR      1  6.469294e+10  4.851971e+10  1.389663e-22\n",
      " TR Newton breakdown, dÎ» = 6.033182e-04 Î» = 6.469294e+10\n",
      "\n",
      " iter inewton type    objective     Î³áµ¢ââ|háµ¢|      leftmost         Î»             Î³             Î´       \n",
      "     1     2   hot -1.436472e-05  3.250064e-13  0.000000e+00  6.469294e+10  1.716928e+03  2.982425e+03\n",
      "\n",
      "Early exit as hotstart with early termination on\n",
      "\n",
      " TR Solving trust region problem, radius 3.725290e-09; starting on first irreducible block\n",
      " TR Starting Newton iteration for Î»â with initial choice 6.469294e+10\n",
      " TR  iter        Î»            dÎ»       âhâ(Î»)â-radius\n",
      " TR      1  2.587718e+11  1.940788e+11  3.308722e-24\n",
      " TR Newton breakdown, dÎ» = 2.298355e-04 Î» = 2.587718e+11\n",
      "\n",
      " iter inewton type    objective     Î³áµ¢ââ|háµ¢|      leftmost         Î»             Î³             Î´       \n",
      "     1     2   hot -3.591180e-06  2.031290e-14  0.000000e+00  2.587718e+11  1.716928e+03  2.982425e+03\n",
      "\n",
      "Early exit as hotstart with early termination on\n",
      "\n",
      " TR Solving trust region problem, radius 9.313226e-10; starting on first irreducible block\n",
      " TR Starting Newton iteration for Î»â with initial choice 2.587718e+11\n",
      " TR  iter        Î»            dÎ»       âhâ(Î»)â-radius\n",
      " TR      1  1.035087e+12  7.763153e+11  2.067952e-25\n",
      "\n",
      " iter inewton type    objective     Î³áµ¢ââ|háµ¢|      leftmost         Î»             Î³             Î´       \n",
      "     1     1   hot -8.977950e-07  1.269556e-15  0.000000e+00  1.035087e+12  1.716928e+03  2.982425e+03\n",
      "\n",
      "Early exit as hotstart with early termination on\n",
      "\n",
      " TR Solving trust region problem, radius 2.328306e-10; starting on first irreducible block\n",
      " TR Starting Newton iteration for Î»â with initial choice 1.035087e+12\n",
      " TR  iter        Î»            dÎ»       âhâ(Î»)â-radius\n",
      " TR      1  4.140348e+12  3.105261e+12 -2.584939e-26\n",
      "\n",
      " iter inewton type    objective     Î³áµ¢ââ|háµ¢|      leftmost         Î»             Î³             Î´       \n",
      "     1     1   hot -2.244487e-07  7.934726e-17  0.000000e+00  4.140348e+12  1.716928e+03  2.982425e+03\n",
      "\n",
      "Early exit as hotstart with early termination on\n",
      "\n",
      " TR Solving trust region problem, radius 5.820766e-11; starting on first irreducible block\n",
      " TR Starting Newton iteration for Î»â with initial choice 4.140348e+12\n",
      " TR  iter        Î»            dÎ»       âhâ(Î»)â-radius\n",
      " TR      1  1.656139e+13  1.242105e+13  0.000000e+00\n",
      "\n",
      " iter inewton type    objective     Î³áµ¢ââ|háµ¢|      leftmost         Î»             Î³             Î´       \n",
      "     1     1   hot -5.611219e-08  4.959204e-18  0.000000e+00  1.656139e+13  1.716928e+03  2.982425e+03\n",
      "\n",
      "Early exit as hotstart with early termination on\n",
      "\n",
      " TR Solving trust region problem, radius 1.455192e-11; starting on first irreducible block\n",
      " TR Starting Newton iteration for Î»â with initial choice 1.656139e+13\n",
      " TR  iter        Î»            dÎ»       âhâ(Î»)â-radius\n",
      " TR      1  6.624558e+13  4.968418e+13  0.000000e+00\n",
      "\n",
      " iter inewton type    objective     Î³áµ¢ââ|háµ¢|      leftmost         Î»             Î³             Î´       \n",
      "     1     1   hot -1.402805e-08  3.099502e-19  0.000000e+00  6.624558e+13  1.716928e+03  2.982425e+03\n",
      "\n",
      "Early exit as hotstart with early termination on\n",
      "\n",
      " TR Solving trust region problem, radius 3.637979e-12; starting on first irreducible block\n",
      " TR Starting Newton iteration for Î»â with initial choice 6.624558e+13\n",
      " TR  iter        Î»            dÎ»       âhâ(Î»)â-radius\n",
      " TR      1  2.649823e+14  1.987367e+14  0.000000e+00\n",
      "\n",
      " iter inewton type    objective     Î³áµ¢ââ|háµ¢|      leftmost         Î»             Î³             Î´       \n",
      "     1     1   hot -3.507012e-09  1.937189e-20  0.000000e+00  2.649823e+14  1.716928e+03  2.982425e+03\n",
      "\n",
      "Early exit as hotstart with early termination on\n",
      "\n",
      " TR Solving trust region problem, radius 9.094947e-13; starting on first irreducible block\n",
      " TR Starting Newton iteration for Î»â with initial choice 2.649823e+14\n",
      " TR  iter        Î»            dÎ»       âhâ(Î»)â-radius\n",
      " TR      1  1.059929e+15  7.949469e+14  0.000000e+00\n",
      "\n",
      " iter inewton type    objective     Î³áµ¢ââ|háµ¢|      leftmost         Î»             Î³             Î´       \n",
      "     1     1   hot -8.767529e-10  1.210743e-21  0.000000e+00  1.059929e+15  1.716928e+03  2.982425e+03\n",
      "\n",
      "Early exit as hotstart with early termination on\n",
      "\n",
      " TR Solving trust region problem, radius 2.273737e-13; starting on first irreducible block\n",
      " TR Starting Newton iteration for Î»â with initial choice 1.059929e+15\n",
      " TR  iter        Î»            dÎ»       âhâ(Î»)â-radius\n",
      " TR      1  4.239717e+15  3.179788e+15  0.000000e+00\n",
      "\n",
      " iter inewton type    objective     Î³áµ¢ââ|háµ¢|      leftmost         Î»             Î³             Î´       \n",
      "     1     1   hot -2.191882e-10  7.567144e-23  0.000000e+00  4.239717e+15  1.716928e+03  2.982425e+03\n",
      "\n",
      "Early exit as hotstart with early termination on\n",
      "\n",
      " TR Solving trust region problem, radius 5.684342e-14; starting on first irreducible block\n",
      " TR Starting Newton iteration for Î»â with initial choice 4.239717e+15\n",
      " TR  iter        Î»            dÎ»       âhâ(Î»)â-radius\n",
      " TR      1  1.695887e+16  1.271915e+16 -6.310887e-30\n",
      "\n",
      " iter inewton type    objective     Î³áµ¢ââ|háµ¢|      leftmost         Î»             Î³             Î´       \n",
      "     1     1   hot -5.479706e-11  4.729465e-24  0.000000e+00  1.695887e+16  1.716928e+03  2.982425e+03\n",
      "\n",
      "Early exit as hotstart with early termination on\n",
      "\n",
      " TR Solving trust region problem, radius 1.421085e-14; starting on first irreducible block\n",
      " TR Starting Newton iteration for Î»â with initial choice 1.695887e+16\n",
      " TR  iter        Î»            dÎ»       âhâ(Î»)â-radius\n",
      " TR      1  6.783547e+16  5.087660e+16 -1.577722e-30\n",
      "\n",
      " iter inewton type    objective     Î³áµ¢ââ|háµ¢|      leftmost         Î»             Î³             Î´       \n",
      "     1     1   hot -1.369926e-11  2.955916e-25  0.000000e+00  6.783547e+16  1.716928e+03  2.982425e+03\n",
      "\n",
      "Early exit as hotstart with early termination on\n",
      "\n",
      " TR Solving trust region problem, radius 3.552714e-15; starting on first irreducible block\n",
      " TR Starting Newton iteration for Î»â with initial choice 6.783547e+16\n",
      " TR  iter        Î»            dÎ»       âhâ(Î»)â-radius\n",
      " TR      1  2.713419e+17  2.035064e+17  0.000000e+00\n",
      "\n",
      " iter inewton type    objective     Î³áµ¢ââ|háµ¢|      leftmost         Î»             Î³             Î´       \n",
      "     1     1   hot -3.424816e-12  1.847447e-26  0.000000e+00  2.713419e+17  1.716928e+03  2.982425e+03\n",
      "\n",
      "Early exit as hotstart with early termination on\n",
      "\n",
      " TR Solving trust region problem, radius 8.881784e-16; starting on first irreducible block\n",
      " TR Starting Newton iteration for Î»â with initial choice 2.713419e+17\n",
      " TR  iter        Î»            dÎ»       âhâ(Î»)â-radius\n",
      " TR      1  1.085368e+18  8.140256e+17  0.000000e+00\n",
      "\n",
      " iter inewton type    objective     Î³áµ¢ââ|háµ¢|      leftmost         Î»             Î³             Î´       \n",
      "     1     1   hot -8.562040e-13  1.154655e-27  0.000000e+00  1.085368e+18  1.716928e+03  2.982425e+03\n",
      "\n",
      "Early exit as hotstart with early termination on\n",
      "\n",
      " TR Solving trust region problem, radius 2.220446e-16; starting on first irreducible block\n",
      " TR Starting Newton iteration for Î»â with initial choice 1.085368e+18\n",
      " TR  iter        Î»            dÎ»       âhâ(Î»)â-radius\n",
      " TR      1  4.341470e+18  3.256103e+18  0.000000e+00\n",
      "\n",
      " iter inewton type    objective     Î³áµ¢ââ|háµ¢|      leftmost         Î»             Î³             Î´       \n",
      "     1     1   hot -2.140510e-13  7.216591e-29  0.000000e+00  4.341470e+18  1.716928e+03  2.982425e+03\n",
      "\n",
      "Early exit as hotstart with early termination on\n",
      "\n",
      " TR Solving trust region problem, radius 5.551115e-17; starting on first irreducible block\n",
      " TR Starting Newton iteration for Î»â with initial choice 4.341470e+18\n",
      " TR  iter        Î»            dÎ»       âhâ(Î»)â-radius\n",
      " TR      1  1.736588e+19  1.302441e+19 -6.162976e-33\n",
      "\n",
      " iter inewton type    objective     Î³áµ¢ââ|háµ¢|      leftmost         Î»             Î³             Î´       \n",
      "     1     1   hot -5.351275e-14  4.510369e-30  0.000000e+00  1.736588e+19  1.716928e+03  2.982425e+03\n",
      "\n",
      "Early exit as hotstart with early termination on\n",
      "\n",
      "         Current function value: 848.220000\n",
      "         Iterations: 27\n",
      "         Function evaluations: 29\n",
      "         Gradient evaluations: 29\n",
      "         Hessian evaluations: 31\n"
     ]
    },
    {
     "name": "stderr",
     "output_type": "stream",
     "text": [
      "c:\\Users\\ACER\\AppData\\Local\\Programs\\Python\\Python312\\Lib\\site-packages\\scipy\\optimize\\_minimize.py:735: RuntimeWarning: A bad approximation caused failure to predict improvement.\n",
      "  res = _minimize_trust_krylov(fun, x0, args, jac, hess, hessp,\n"
     ]
    }
   ],
   "source": [
    "res = minimize(rosen, x0, method='trust-krylov',\n",
    "               jac=gradient_rosen, hessp=rosen_hess_p,\n",
    "               options={'gtol': 1e-8, 'disp': True})"
   ]
  },
  {
   "cell_type": "code",
   "execution_count": null,
   "metadata": {},
   "outputs": [],
   "source": []
  },
  {
   "cell_type": "code",
   "execution_count": null,
   "metadata": {},
   "outputs": [],
   "source": []
  },
  {
   "cell_type": "markdown",
   "metadata": {},
   "source": [
    "Constrained minimization of multivariate scalar functions (minimize)\n",
    "\n",
    "Trust-Region Constrained Algorithm (method='trust-constr')"
   ]
  },
  {
   "cell_type": "code",
   "execution_count": 71,
   "metadata": {},
   "outputs": [
    {
     "name": "stdout",
     "output_type": "stream",
     "text": [
      "Variable 1: Lower bound = 1.0, Upper bound = 2.0\n",
      "Variable 2: Lower bound = 1.5, Upper bound = 2.5\n"
     ]
    }
   ],
   "source": [
    "#bounds constrants\n",
    "\n",
    "from scipy.optimize import Bounds\n",
    "\n",
    "bounds = Bounds([1,1.5],[2,2.5])\n",
    "#means first element x0 is bound from 1 to 2  and second element 1.5 to 2.5 , indices wise.\n",
    "\n",
    "for i in range(len(bounds.lb)):\n",
    "    print(f'Variable {i+1}: Lower bound = {bounds.lb[i]}, Upper bound = {bounds.ub[i]}')"
   ]
  },
  {
   "cell_type": "code",
   "execution_count": 60,
   "metadata": {},
   "outputs": [
    {
     "name": "stdout",
     "output_type": "stream",
     "text": [
      "Variable 1: Coefficients = [1. 2.], Lower bound = -inf, Upper bound = 5.0\n",
      "Variable 2: Coefficients = [2. 1.], Lower bound = 1.0, Upper bound = 1.0\n"
     ]
    }
   ],
   "source": [
    "#linear constrants\n",
    "\n",
    "from scipy.optimize import LinearConstraint\n",
    "import numpy as np\n",
    "\n",
    "# Define the linear constraint\n",
    "linear_constraint = LinearConstraint([[1, 2], [2, 1]], [-np.inf, 1], [5, 1])\n",
    "\n",
    "# Print the constraints for each variable separately\n",
    "for i, (coefficients, lower_bound, upper_bound) in enumerate(zip(linear_constraint.A, linear_constraint.lb, linear_constraint.ub)):\n",
    "    print(f\"Variable {i+1}: Coefficients = {coefficients}, Lower bound = {lower_bound}, Upper bound = {upper_bound}\")\n"
   ]
  },
  {
   "cell_type": "code",
   "execution_count": 64,
   "metadata": {},
   "outputs": [
    {
     "name": "stdout",
     "output_type": "stream",
     "text": [
      "Value of con_f at x = [1, 2] : [3, -1]\n",
      "Value of jac_f at x = [1, 2] : [[2, 1], [2, -1]]\n",
      "Value of hes_f at x = [1, 2] and v = [0.5, 0.5] : [[2. 0.]\n",
      " [0. 0.]]\n"
     ]
    }
   ],
   "source": [
    "#non-linear constrants\n",
    "\n",
    "def con_f(x):   #objective function\n",
    "    return [x[0]**2 +x[1] ,x[0]**2 -x[1]]\n",
    "\n",
    "def jac_f(x):   #jacobian matrix\n",
    "    return [[2*x[0] ,1] , [2*x[0] ,-1]]\n",
    "\n",
    "def hes_f(x,v):  #hessian matrix\n",
    "    return v[0] *np.array([[2,0],[0,0]])  + v[1] * np.array([[2,0],[0,0]])\n",
    "\n",
    "from scipy.optimize import NonlinearConstraint\n",
    "\n",
    "\n",
    "x = [1, 2]\n",
    "v = [0.5, 0.5]\n",
    "\n",
    "nonlinear_constraint = NonlinearConstraint(con_f, -np.inf, 1, jac_f, hes_f)\n",
    "\n",
    "print(\"Value of con_f at x =\", x, \":\", nonlinear_constraint.fun(x))\n",
    "print(\"Value of jac_f at x =\", x, \":\", nonlinear_constraint.jac(x))\n",
    "print(\"Value of hes_f at x =\", x, \"and v =\", v, \":\", nonlinear_constraint.hess(x, v))\n"
   ]
  },
  {
   "cell_type": "code",
   "execution_count": 65,
   "metadata": {},
   "outputs": [
    {
     "name": "stdout",
     "output_type": "stream",
     "text": [
      "Constraint function: con_f\n",
      "Lower bound: -inf\n",
      "Upper bound: 1\n",
      "Jacobian function: jac_f\n",
      "Hessian function: hes_f\n"
     ]
    }
   ],
   "source": [
    "print(\"Constraint function:\", nonlinear_constraint.fun.__name__)\n",
    "print(\"Lower bound:\", nonlinear_constraint.lb)\n",
    "print(\"Upper bound:\", nonlinear_constraint.ub)\n",
    "print(\"Jacobian function:\", nonlinear_constraint.jac.__name__)\n",
    "print(\"Hessian function:\", nonlinear_constraint.hess.__name__)"
   ]
  },
  {
   "cell_type": "code",
   "execution_count": 67,
   "metadata": {},
   "outputs": [
    {
     "name": "stdout",
     "output_type": "stream",
     "text": [
      "`xtol` termination condition is satisfied.\n",
      "Number of iterations: 156, function evaluations: 156, CG iterations: 144, optimality: 5.38e+00, constraint violation: 1.50e+00, execution time: 0.077 s.\n"
     ]
    }
   ],
   "source": [
    "x0 = np.array([0.5, 0])\n",
    "res = minimize(rosen, x0, method='trust-constr', jac=gradient_rosen, hessp=rosen_hess_p,\n",
    "               constraints=[linear_constraint, nonlinear_constraint],\n",
    "               options={'verbose': 1}, bounds=bounds)"
   ]
  },
  {
   "cell_type": "code",
   "execution_count": null,
   "metadata": {},
   "outputs": [],
   "source": []
  },
  {
   "cell_type": "markdown",
   "metadata": {},
   "source": [
    "Sequential Least SQuares Programming (SLSQP) Algorithm (method='SLSQP')"
   ]
  },
  {
   "cell_type": "code",
   "execution_count": 68,
   "metadata": {},
   "outputs": [],
   "source": [
    "ineq_cons = {'type': 'ineq',\n",
    "             'fun' : lambda x: np.array([1 - x[0] - 2*x[1],\n",
    "                                         1 - x[0]**2 - x[1],\n",
    "                                         1 - x[0]**2 + x[1]]),\n",
    "             'jac' : lambda x: np.array([[-1.0, -2.0],\n",
    "                                         [-2*x[0], -1.0],\n",
    "                                         [-2*x[0], 1.0]])}\n",
    "eq_cons = {'type': 'eq',\n",
    "           'fun' : lambda x: np.array([2*x[0] + x[1] - 1]),\n",
    "           'jac' : lambda x: np.array([2.0, 1.0])}"
   ]
  },
  {
   "cell_type": "code",
   "execution_count": 70,
   "metadata": {},
   "outputs": [
    {
     "name": "stdout",
     "output_type": "stream",
     "text": [
      "Positive directional derivative for linesearch    (Exit mode 8)\n",
      "            Current function value: 25.0\n",
      "            Iterations: 10\n",
      "            Function evaluations: 41\n",
      "            Gradient evaluations: 6\n"
     ]
    }
   ],
   "source": [
    "x0 = np.array([0.5, 0])\n",
    "res = minimize(rosen, x0, method='SLSQP', jac=gradient_rosen,\n",
    "               constraints=[eq_cons, ineq_cons], options={'ftol': 1e-9, 'disp': True},\n",
    "               bounds=bounds)"
   ]
  },
  {
   "cell_type": "code",
   "execution_count": null,
   "metadata": {},
   "outputs": [],
   "source": []
  },
  {
   "cell_type": "markdown",
   "metadata": {},
   "source": [
    "SHGO (Simplicial Homology Global Optimization)"
   ]
  },
  {
   "cell_type": "markdown",
   "metadata": {},
   "source": [
    "Global Optimization ![alt text](figures/egg_holder_function.png)"
   ]
  },
  {
   "cell_type": "code",
   "execution_count": 79,
   "metadata": {},
   "outputs": [
    {
     "data": {
      "image/png": "[encoded data removed]",
      "text/plain": [
       "<Figure size 640x480 with 1 Axes>"
      ]
     },
     "metadata": {},
     "output_type": "display_data"
    }
   ],
   "source": [
    "def eggholder(x):\n",
    "    return (-(x[1] + 47) * np.sin(np.sqrt(abs(x[0]/2 + (x[1] + 47)))) -\n",
    "            x[0] * np.sin(np.sqrt(abs(x[0] - (x[1] + 47)))))\n",
    "    \n",
    "    \n",
    "bounds = [(-512,512) ,(-512,512)]\n",
    "\n",
    "\n",
    "import matplotlib.pyplot as plt \n",
    "from mpl_toolkits.mplot3d import Axes3D\n",
    "\n",
    "\n",
    "x = np.arange(-512,513)\n",
    "y = np.arange(-512,513)\n",
    "xgrid ,ygrid = np.meshgrid(x,y)\n",
    "\n",
    "xy = np.stack([xgrid, ygrid])\n",
    "\n",
    "fig = plt.figure()\n",
    "ax = fig.add_subplot(111, projection='3d')\n",
    "ax.view_init(45,-45)\n",
    "ax.plot_surface(xgrid,ygrid,eggholder(xy) ,cmap ='terrain')\n",
    "ax.set_xlabel('x')\n",
    "ax.set_ylabel('y')\n",
    "ax.set_zlabel('eggholder(x, y)')\n",
    "plt.show()"
   ]
  },
  {
   "cell_type": "code",
   "execution_count": 80,
   "metadata": {},
   "outputs": [
    {
     "data": {
      "text/plain": [
       " message: Optimization terminated successfully.\n",
       " success: True\n",
       "     fun: -935.3379515604948\n",
       "    funl: [-9.353e+02]\n",
       "       x: [ 4.395e+02  4.540e+02]\n",
       "      xl: [[ 4.395e+02  4.540e+02]]\n",
       "     nit: 1\n",
       "    nfev: 47\n",
       "   nlfev: 42\n",
       "   nljev: 10\n",
       "   nlhev: 0"
      ]
     },
     "execution_count": 80,
     "metadata": {},
     "output_type": "execute_result"
    }
   ],
   "source": [
    "results = dict()\n",
    "results['shgo'] = optimize.shgo(eggholder, bounds)\n",
    "results['shgo']"
   ]
  },
  {
   "cell_type": "code",
   "execution_count": 81,
   "metadata": {},
   "outputs": [
    {
     "data": {
      "text/plain": [
       " message: ['Maximum number of iteration reached']\n",
       " success: True\n",
       "  status: 0\n",
       "     fun: -956.9182316186543\n",
       "       x: [ 4.824e+02  4.329e+02]\n",
       "     nit: 1000\n",
       "    nfev: 4175\n",
       "    njev: 58\n",
       "    nhev: 0"
      ]
     },
     "execution_count": 81,
     "metadata": {},
     "output_type": "execute_result"
    }
   ],
   "source": [
    "results['DA'] = optimize.dual_annealing(eggholder, bounds)\n",
    "results['DA']"
   ]
  },
  {
   "cell_type": "code",
   "execution_count": 82,
   "metadata": {},
   "outputs": [
    {
     "data": {
      "text/plain": [
       "             message: Optimization terminated successfully.\n",
       "             success: True\n",
       "                 fun: -935.3379515605754\n",
       "                   x: [ 4.395e+02  4.540e+02]\n",
       "                 nit: 30\n",
       "                nfev: 951\n",
       "          population: [[ 4.398e+02  4.541e+02]\n",
       "                       [ 4.417e+02  4.564e+02]\n",
       "                       ...\n",
       "                       [ 4.416e+02  4.543e+02]\n",
       "                       [ 4.409e+02  4.562e+02]]\n",
       " population_energies: [-9.353e+02 -9.342e+02 ... -9.324e+02 -9.339e+02]\n",
       "                 jac: [ 0.000e+00  0.000e+00]"
      ]
     },
     "execution_count": 82,
     "metadata": {},
     "output_type": "execute_result"
    }
   ],
   "source": [
    "results['DE'] = optimize.differential_evolution(eggholder, bounds)\n",
    "results['DE']"
   ]
  },
  {
   "cell_type": "code",
   "execution_count": 83,
   "metadata": {},
   "outputs": [
    {
     "data": {
      "text/plain": [
       " message: Optimization terminated successfully.\n",
       " success: True\n",
       "     fun: -959.640662720846\n",
       "    funl: [-9.596e+02 -9.353e+02 ... -6.591e+01 -6.387e+01]\n",
       "       x: [ 5.120e+02  4.042e+02]\n",
       "      xl: [[ 5.120e+02  4.042e+02]\n",
       "           [ 4.395e+02  4.540e+02]\n",
       "           ...\n",
       "           [ 3.165e+01 -8.523e+01]\n",
       "           [ 5.865e+01 -5.441e+01]]\n",
       "     nit: 5\n",
       "    nfev: 3541\n",
       "   nlfev: 2339\n",
       "   nljev: 630\n",
       "   nlhev: 0"
      ]
     },
     "execution_count": 83,
     "metadata": {},
     "output_type": "execute_result"
    }
   ],
   "source": [
    "results['shgo_sobol'] = optimize.shgo(eggholder, bounds, n=200, iters=5,\n",
    "                                      sampling_method='sobol')\n",
    "results['shgo_sobol']"
   ]
  },
  {
   "cell_type": "code",
   "execution_count": null,
   "metadata": {},
   "outputs": [],
   "source": []
  },
  {
   "cell_type": "code",
   "execution_count": null,
   "metadata": {},
   "outputs": [],
   "source": []
  }
 ],
 "metadata": {
  "kernelspec": {
   "display_name": "Python 3",
   "language": "python",
   "name": "python3"
  },
  "language_info": {
   "codemirror_mode": {
    "name": "ipython",
    "version": 3
   },
   "file_extension": ".py",
   "mimetype": "text/x-python",
   "name": "python",
   "nbconvert_exporter": "python",
   "pygments_lexer": "ipython3",
   "version": "3.12.3"
  }
 },
 "nbformat": 4,
 "nbformat_minor": 2
}
