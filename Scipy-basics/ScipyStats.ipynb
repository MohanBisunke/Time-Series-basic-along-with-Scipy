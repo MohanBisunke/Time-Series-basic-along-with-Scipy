{
 "cells": [
  {
   "cell_type": "code",
   "execution_count": 1,
   "metadata": {},
   "outputs": [],
   "source": [
    "import numpy as np\n",
    "import scipy\n",
    "from scipy import stats"
   ]
  },
  {
   "cell_type": "code",
   "execution_count": 3,
   "metadata": {},
   "outputs": [
    {
     "data": {
      "text/plain": [
       "DescribeResult(nobs=14, minmax=(-5, 9), mean=2.4285714285714284, variance=19.802197802197803, skewness=-0.23560721225568543, kurtosis=-1.0476138856690251)"
      ]
     },
     "execution_count": 3,
     "metadata": {},
     "output_type": "execute_result"
    }
   ],
   "source": [
    "data = [1,2,3,4,5,6,7,8,9,-1,2,-3,-4,-5]\n",
    "des = stats.describe(data)\n",
    "des"
   ]
  },
  {
   "cell_type": "code",
   "execution_count": 6,
   "metadata": {},
   "outputs": [
    {
     "name": "stdout",
     "output_type": "stream",
     "text": [
      "Key nobs : Value 14\n",
      "Key minmax : Value (-5, 9)\n",
      "Key mean : Value 2.4285714285714284\n",
      "Key variance : Value 19.802197802197803\n",
      "Key skewness : Value -0.23560721225568543\n",
      "Key kurtosis : Value -1.0476138856690251\n"
     ]
    }
   ],
   "source": [
    "data = [1,2,3,4,5,6,7,8,9,-1,2,-3,-4,-5]\n",
    "des = stats.describe(data)\n",
    "for key,value in des._asdict().items():\n",
    "    print(f'Key {key} : Value {value}')"
   ]
  },
  {
   "cell_type": "code",
   "execution_count": 11,
   "metadata": {},
   "outputs": [
    {
     "name": "stdout",
     "output_type": "stream",
     "text": [
      "[[1 2 3]\n",
      " [4 5 6]\n",
      " [1 2 1]\n",
      " [7 1 1]]\n",
      "Key nobs : Value 4\n",
      "Key minmax : Value (array([1, 1, 1]), array([7, 5, 6]))\n",
      "Key mean : Value [3.25 2.5  2.75]\n",
      "Key variance : Value [8.25       3.         5.58333333]\n",
      "Key skewness : Value [0.4933822  0.88888889 0.68925448]\n",
      "Key kurtosis : Value [-1.37190083 -0.81481481 -1.14190243]\n"
     ]
    }
   ],
   "source": [
    "array = np.asmatrix('[1,2,3;4,5,6;1,2,1; 7,1,1]')\n",
    "desarray = stats.describe(array)\n",
    "print(array)\n",
    "for key,value in desarray._asdict().items():\n",
    "    print(f'Key {key} : Value {value}')\n",
    "    "
   ]
  },
  {
   "cell_type": "code",
   "execution_count": 17,
   "metadata": {},
   "outputs": [
    {
     "name": "stdout",
     "output_type": "stream",
     "text": [
      "Area left to point on that area, cumulative distrubution is  :  [0.15865525 0.30853754 0.5        0.69146246 0.84134475]\n",
      "PPF value, which value satisying the given area points, is -2.0728667789875797\n",
      "Sample distribution is [-0.40677095 -0.4922798  -2.16514768 -0.1494718  -1.56475099]\n"
     ]
    }
   ],
   "source": [
    "array = np.array([-2,-1,0,1,2])\n",
    "\n",
    "distribution = stats.norm(0,2)  #mean , std\n",
    "\n",
    "\n",
    "print('Area left to point on that area, cumulative distrubution is  : ', distribution.cdf(array))\n",
    "print(f'PPF value, which value satisying the given area points, is {distribution.ppf(0.15)}')\n",
    "print(f'Sample distribution is {distribution.rvs(size=5)}')"
   ]
  }
 ],
 "metadata": {
  "kernelspec": {
   "display_name": "Python 3",
   "language": "python",
   "name": "python3"
  },
  "language_info": {
   "codemirror_mode": {
    "name": "ipython",
    "version": 3
   },
   "file_extension": ".py",
   "mimetype": "text/x-python",
   "name": "python",
   "nbconvert_exporter": "python",
   "pygments_lexer": "ipython3",
   "version": "3.12.3"
  }
 },
 "nbformat": 4,
 "nbformat_minor": 2
}
